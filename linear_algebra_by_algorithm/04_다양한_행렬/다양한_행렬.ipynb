{
 "cells": [
  {
   "cell_type": "code",
   "execution_count": 1,
   "metadata": {},
   "outputs": [],
   "source": [
    "import numpy as np"
   ]
  },
  {
   "cell_type": "markdown",
   "metadata": {},
   "source": [
    "### transpose 전치행렬 $A^T$\n",
    "\n",
    "$\n",
    "a_{i, j} = a_{j, i}\n",
    "$"
   ]
  },
  {
   "cell_type": "code",
   "execution_count": 3,
   "metadata": {},
   "outputs": [
    {
     "data": {
      "text/plain": [
       "array([[1, 3, 6],\n",
       "       [5, 4, 2]])"
      ]
     },
     "execution_count": 3,
     "metadata": {},
     "output_type": "execute_result"
    }
   ],
   "source": [
    "A = np.array([[1, 5],\n",
    "              [3, 4],\n",
    "              [6, 2]])\n",
    "At = np.transpose(A)\n",
    "\n",
    "At"
   ]
  },
  {
   "cell_type": "markdown",
   "metadata": {},
   "source": [
    "### symmetric 대칭 행렬 $A = A^{T}$\n",
    "\n",
    "$\n",
    "A = A^{T}\n",
    "$\n",
    "\n",
    "- 대각선 기준으로 대칭인 행렬\n",
    "\n",
    "- 대칭 행렬 $A$는 $ A^{n} $ 꼴은 모두 대칭 행렬이다.\n",
    "- 모든 행렬 A에 대해서, AA^{T} 는 항상 대칭 행렬 형태다. \n",
    "    - A가 정방 행렬일 필요도 없다. 모든 행렬에 해당한다.\n"
   ]
  },
  {
   "cell_type": "code",
   "execution_count": 13,
   "metadata": {},
   "outputs": [
    {
     "data": {
      "text/plain": [
       "True"
      ]
     },
     "execution_count": 13,
     "metadata": {},
     "output_type": "execute_result"
    }
   ],
   "source": [
    "A = np.array([\n",
    "    [1, 0, 2],\n",
    "    [0, 2, 1],\n",
    "    [2, 1, 1],\n",
    "])\n",
    "\n",
    "At = np.transpose(A)\n",
    "\n",
    "# 대칭 행렬인가?\n",
    "\n",
    "np.array_equal(A, At)"
   ]
  },
  {
   "cell_type": "markdown",
   "metadata": {},
   "source": [
    "#### 대칭 행렬 A 에 대해 $A^n$ 또한 대칭행렬이다."
   ]
  },
  {
   "cell_type": "code",
   "execution_count": 14,
   "metadata": {},
   "outputs": [
    {
     "name": "stdout",
     "output_type": "stream",
     "text": [
      "A의 2 승은 대칭 행렬인가? True\n",
      "A의 3 승은 대칭 행렬인가? True\n",
      "A의 4 승은 대칭 행렬인가? True\n",
      "A의 5 승은 대칭 행렬인가? True\n",
      "A의 6 승은 대칭 행렬인가? True\n",
      "A의 7 승은 대칭 행렬인가? True\n",
      "A의 8 승은 대칭 행렬인가? True\n"
     ]
    }
   ],
   "source": [
    "# 대칭 행렬은 곱해서 대칭행렬이다.\n",
    "\n",
    "temp = A\n",
    "\n",
    "for i in range(1, 8):\n",
    "    temp = np.matmul(temp, A)\n",
    "    tempt = np.transpose(temp)\n",
    "    print(f\"A의 {i + 1} 승은 대칭 행렬인가? {np.array_equal(temp, temp)}\")"
   ]
  },
  {
   "cell_type": "markdown",
   "metadata": {},
   "source": [
    "#### $AA^T$ 는 항상 대칭행렬이다"
   ]
  },
  {
   "cell_type": "code",
   "execution_count": 15,
   "metadata": {},
   "outputs": [
    {
     "data": {
      "text/plain": [
       "True"
      ]
     },
     "execution_count": 15,
     "metadata": {},
     "output_type": "execute_result"
    }
   ],
   "source": [
    "A = np.array([\n",
    "    [1, 50, 2],\n",
    "    [9, 23, 1],\n",
    "    [12, 16, 1],\n",
    "])\n",
    "\n",
    "At = np.transpose(A)\n",
    "res = np.matmul(A, At)\n",
    "\n",
    "# res가 대칭행렬인지 검증해보자. 검증하려면 transpose 한 것과 같은지 체크해보면 된다.\n",
    "rest = np.transpose(res)\n",
    "\n",
    "np.array_equal(res, rest)"
   ]
  },
  {
   "cell_type": "markdown",
   "metadata": {},
   "source": [
    "### Orthogonal Matrix 직교 행렬 $A^T = A^{-1}$\n",
    "\n",
    "- 직교 한다 = $A^T = A^{-1}$ 이다  \n",
    "- 따라서 $A^TA = AA^T = I$  이다.\n"
   ]
  },
  {
   "cell_type": "code",
   "execution_count": 47,
   "metadata": {},
   "outputs": [
    {
     "name": "stdout",
     "output_type": "stream",
     "text": [
      "직교 행렬 Q:\n",
      "[[ 0.70710678 -0.70710678]\n",
      " [ 0.70710678  0.70710678]]\n",
      "True\n"
     ]
    }
   ],
   "source": [
    "# 각도 정의 (예: 45도)\n",
    "theta = np.pi / 4\n",
    "\n",
    "# 직교 행렬 생성\n",
    "Q = np.array([\n",
    "    [np.cos(theta), -np.sin(theta)],\n",
    "    [np.sin(theta), np.cos(theta)]\n",
    "])\n",
    "\n",
    "# 행등행렬\n",
    "I = np.identity(2)\n",
    "\n",
    "# 행렬 출력\n",
    "print(\"직교 행렬 Q:\")\n",
    "print(Q)\n",
    "\n",
    "# 직교 행렬 검증: Q^T * Q = I\n",
    "print(np.allclose(np.dot(Q.T, Q), I))"
   ]
  },
  {
   "cell_type": "markdown",
   "metadata": {},
   "source": [
    "### diagonal 대각행렬\n",
    "\n",
    "- 대각 행렬은 대각선만 원소 있고 나머진 0\n",
    "- 대각 행렬의 역행렬은 대각 원소들의 역수 $d \\rightarrow \\frac{1}{d}$\n",
    "- 대각 행렬의 n승은 대각 원소들의 n승 $d \\rightarrow d^{n}$  \n",
    "- 어떤 행렬에 대각 행렬을 곱한다는 건 해당 행렬의 행이 대각 원소의 배수만큼 커짐을 의미"
   ]
  },
  {
   "cell_type": "code",
   "execution_count": 18,
   "metadata": {},
   "outputs": [
    {
     "name": "stdout",
     "output_type": "stream",
     "text": [
      "[1 5 9]\n",
      "[[1 0 0]\n",
      " [0 5 0]\n",
      " [0 0 9]]\n"
     ]
    }
   ],
   "source": [
    "A = np.array([\n",
    "    [1, 2, 3],\n",
    "    [4, 5, 6],\n",
    "    [7, 8, 9],\n",
    "])\n",
    "\n",
    "D = np.diag(A)\n",
    "\n",
    "print(D) # 대각 원소만 뱉음\n",
    "\n",
    "print(np.diag(D)) # 다시 넣으면 행렬로 뱉어줌\n",
    "\n",
    "# 한 번에 행렬만 뱉지 않음. 원한다면 np.diag(np.diag(A)) 같이 해야..."
   ]
  },
  {
   "cell_type": "code",
   "execution_count": 25,
   "metadata": {},
   "outputs": [
    {
     "name": "stdout",
     "output_type": "stream",
     "text": [
      "[[ 1  2  3]\n",
      " [12 15 18]\n",
      " [28 32 36]]\n",
      "------\n",
      "[[ 1  6 12]\n",
      " [ 4 15 24]\n",
      " [ 7 24 36]]\n"
     ]
    }
   ],
   "source": [
    "A = np.array([\n",
    "    [1, 2, 3],\n",
    "    [4, 5, 6],\n",
    "    [7, 8, 9],\n",
    "])\n",
    "\n",
    "D = np.diag(np.array([1, 3, 4]))\n",
    "\n",
    "# DA는 A의 행이 각각 1배, 3배, 4배 됨.\n",
    "# 대각 행렬을 앞에다 곱하면 행이 x배됨\n",
    "DA = np.matmul(D, A)\n",
    "print(DA)\n",
    "\n",
    "print(\"------\")\n",
    "\n",
    "# AD는 열이 1배, 3배, 4배 됨.\n",
    "# 대각 행렬을 뒤에다 곱하면 열이 x배됨\n",
    "AD = np.matmul(A, D)\n",
    "print(AD)"
   ]
  },
  {
   "cell_type": "markdown",
   "metadata": {},
   "source": [
    "### identity 단위 행렬\n",
    "\n",
    "- aka 항등 행렬"
   ]
  },
  {
   "cell_type": "code",
   "execution_count": 26,
   "metadata": {},
   "outputs": [
    {
     "data": {
      "text/plain": [
       "array([[1., 0., 0., 0., 0.],\n",
       "       [0., 1., 0., 0., 0.],\n",
       "       [0., 0., 1., 0., 0.],\n",
       "       [0., 0., 0., 1., 0.],\n",
       "       [0., 0., 0., 0., 1.]])"
      ]
     },
     "execution_count": 26,
     "metadata": {},
     "output_type": "execute_result"
    }
   ],
   "source": [
    "I = np.identity(5)\n",
    "\n",
    "I"
   ]
  },
  {
   "cell_type": "code",
   "execution_count": 27,
   "metadata": {},
   "outputs": [
    {
     "data": {
      "text/plain": [
       "True"
      ]
     },
     "execution_count": 27,
     "metadata": {},
     "output_type": "execute_result"
    }
   ],
   "source": [
    "A = np.array([\n",
    "    [1, 2, 6],\n",
    "    [31, 72, 56],\n",
    "    [31, 42, 46],\n",
    "])\n",
    "\n",
    "I = np.identity(len(A))\n",
    "\n",
    "res = np.matmul(A, I)\n",
    "\n",
    "np.array_equal(A, res)"
   ]
  },
  {
   "cell_type": "markdown",
   "metadata": {},
   "source": [
    "### zero matrix 영행렬"
   ]
  },
  {
   "cell_type": "code",
   "execution_count": 32,
   "metadata": {},
   "outputs": [
    {
     "data": {
      "text/plain": [
       "array([[0., 0.],\n",
       "       [0., 0.],\n",
       "       [0., 0.]])"
      ]
     },
     "execution_count": 32,
     "metadata": {},
     "output_type": "execute_result"
    }
   ],
   "source": [
    "np.zeros((3, 2,)) # 3행 2열의 영행렬"
   ]
  },
  {
   "cell_type": "markdown",
   "metadata": {},
   "source": [
    "### triangular matrix 삼각행렬"
   ]
  },
  {
   "cell_type": "code",
   "execution_count": 33,
   "metadata": {},
   "outputs": [
    {
     "name": "stdout",
     "output_type": "stream",
     "text": [
      "[[1 2 3]\n",
      " [0 5 6]\n",
      " [0 0 9]]\n",
      "[[1 0 0]\n",
      " [4 5 0]\n",
      " [7 8 9]]\n"
     ]
    }
   ],
   "source": [
    "A = np.array([\n",
    "    [1, 2, 3],\n",
    "    [4, 5, 6],\n",
    "    [7, 8, 9],\n",
    "])\n",
    "\n",
    "Aupper = np.triu(A)\n",
    "print(Aupper)\n",
    "\n",
    "Alower = np.tril(A)\n",
    "print(Alower)"
   ]
  },
  {
   "cell_type": "markdown",
   "metadata": {},
   "source": [
    "### toeplitz 토플리츠 행렬\n",
    "\n",
    "$\n",
    "A = \\begin{bmatrix}\n",
    "    a & b & c & d & e \\\\\n",
    "    f & a & b & c & d \\\\\n",
    "    g & f & a & b & c \\\\\n",
    "    h & g & f & a & b \\\\\n",
    "    i & h & g & f & a \n",
    "\\end{bmatrix}\n",
    "$\n",
    "\n",
    "즉, \n",
    "$\n",
    "T_{i, j} = T_{i + 1, j + 1} = t\n",
    "$\n",
    "\n",
    "- 시계열 분석에서 자주 쓰임"
   ]
  },
  {
   "cell_type": "code",
   "execution_count": 37,
   "metadata": {},
   "outputs": [
    {
     "data": {
      "text/plain": [
       "array([[ 1,  3,  6,  9],\n",
       "       [ 0,  1,  3,  6],\n",
       "       [-2,  0,  1,  3],\n",
       "       [ 5, -2,  0,  1]])"
      ]
     },
     "execution_count": 37,
     "metadata": {},
     "output_type": "execute_result"
    }
   ],
   "source": [
    "from scipy.linalg import toeplitz\n",
    "\n",
    "A = toeplitz(\n",
    "    [1, 0, -2, 5], # 하삼각 c\n",
    "    [1, 3, 6, 9], # 상삼각 r (if c[0] is real, the result is a Hermitian matrix. r[0] is ignored)\n",
    ")\n",
    "\n",
    "A"
   ]
  },
  {
   "cell_type": "markdown",
   "metadata": {},
   "source": [
    "### bidiagonal 이중 대각 행렬\n",
    "\n",
    "\n",
    "upper bidiagonal, lower bidiagonal이 존재함.\n",
    "- Upper bidiagonal 행렬은 주대각선과 그 바로 위의 부대각선을 제외하고 모든 요소가 0인 행렬입니다.  \n",
    "$\n",
    "A = \\begin{bmatrix}\n",
    "    1 & 3 & 0 & 0 \\\\\n",
    "    0 & 2 & 2 & 0 \\\\\n",
    "    0 & 0 & 3 & 5 \\\\\n",
    "    0 & 0 & 0 & 4\n",
    "\\end{bmatrix}\n",
    "$\n",
    "\n",
    "\n",
    "- Lower bidiagonal 행렬은 주대각선과 그 바로 아래의 부대각선을 제외하고 모든 요소가 0인 행렬입니다.  \n",
    "$\n",
    "B = \\begin{bmatrix}\n",
    "    1 & 0 & 0 & 0 \\\\\n",
    "    2 & 2 & 0 & 0 \\\\\n",
    "    0 & 1 & 3 & 0 \\\\\n",
    "    0 & 0 & 1 & 4\n",
    "\\end{bmatrix}\n",
    "$"
   ]
  },
  {
   "cell_type": "code",
   "execution_count": 42,
   "metadata": {},
   "outputs": [
    {
     "name": "stdout",
     "output_type": "stream",
     "text": [
      "[[5 0 0 0]\n",
      " [0 2 0 0]\n",
      " [0 0 1 0]\n",
      " [0 0 0 2]]\n",
      "[[0 2 0 0]\n",
      " [0 0 1 0]\n",
      " [0 0 0 7]\n",
      " [0 0 0 0]]\n"
     ]
    }
   ],
   "source": [
    "A = np.random.randint(0, 11, size=(4, 4))\n",
    "\n",
    "A_diag = np.diag(np.diag(A))\n",
    "A_diag_1_upper = np.diag(np.diag(A, k=1), k=1) #  k is Diagonal in question. The default is 0. Use k>0 for diagonals above the main diagonal, and k<0 for diagonals below the main diagonal.\n",
    "\n",
    "\n",
    "print(A_diag)\n",
    "print(A_diag_1_upper)\n"
   ]
  },
  {
   "cell_type": "code",
   "execution_count": 43,
   "metadata": {},
   "outputs": [
    {
     "data": {
      "text/plain": [
       "array([[5, 2, 0, 0],\n",
       "       [0, 2, 1, 0],\n",
       "       [0, 0, 1, 7],\n",
       "       [0, 0, 0, 2]])"
      ]
     },
     "execution_count": 43,
     "metadata": {},
     "output_type": "execute_result"
    }
   ],
   "source": [
    "upper_bidiag = A_diag + A_diag_1_upper\n",
    "upper_bidiag"
   ]
  },
  {
   "cell_type": "markdown",
   "metadata": {},
   "source": [
    "### householder 하우스홀더 행렬\n",
    "\n",
    "$\n",
    "H = I - 2vv^{T}\n",
    "$\n",
    "\n",
    "정규화된 정의로는 $H = I - 2\\frac{vv^{T}}{v^{T}v}$\n",
    "\n",
    "\n",
    "- $H$는 대칭인 정사각 행렬이고 직교 행렬임. symmetric 하면서도 orthogonal 함.\n",
    "    - 대칭(symmetric) 이므로 $H = H^{T}$\n",
    "        - $H$는 대칭 행렬인 $I$ 에서 대칭 행렬 $2vv^{T}$을 뺀 것이므로 $H$도 대칭행렬임  \n",
    "        - 왜 $2vv^{T}$ 가 대칭 행렬인가? => $vv^{T}$ 는 그 정의상 외적곱(outer product)이고, 같은 벡터를 외적곱을 하면 항상 대칭 행렬이 나온다.\n",
    "    - 직교한다는 것은 $H^T = H^{-1}$ 이므로 $H^{T}H = HH^{T} = I$\n",
    "\n",
    "- 어디에 쓰나?\n",
    "    - 하우스홀더 행렬은 주로 행렬의 특정 열이나 행을 단순화하는 데 사용됩니다. \n",
    "    - 특정 벡터를 원하는 형태로 반사(reflection)시키는 데 사용됩니다. 이러한 반사를 이용해, 예를 들어 QR 분해나 고유값 문제에서 행렬을 단순화하는 데 사용됩니다. 하우스홀더 변환은 고유값 분해, 특이값 분해(SVD) 등의 계산을 더 효율적으로 만들 수 있습니다.\n"
   ]
  },
  {
   "cell_type": "code",
   "execution_count": 51,
   "metadata": {},
   "outputs": [
    {
     "data": {
      "text/plain": [
       "(array([[1, 0, 2, 3],\n",
       "        [0, 0, 0, 0],\n",
       "        [2, 0, 4, 6],\n",
       "        [3, 0, 6, 9]]),\n",
       " 14)"
      ]
     },
     "execution_count": 51,
     "metadata": {},
     "output_type": "execute_result"
    }
   ],
   "source": [
    "v = np.array([1, 0, 2, 3])\n",
    "vvt = np.outer(v, v)\n",
    "vtv = np.inner(v, v)\n",
    "\n",
    "vvt, vtv"
   ]
  },
  {
   "cell_type": "code",
   "execution_count": 49,
   "metadata": {},
   "outputs": [
    {
     "data": {
      "text/plain": [
       "array([[1., 0., 0., 0.],\n",
       "       [0., 1., 0., 0.],\n",
       "       [0., 0., 1., 0.],\n",
       "       [0., 0., 0., 1.]])"
      ]
     },
     "execution_count": 49,
     "metadata": {},
     "output_type": "execute_result"
    }
   ],
   "source": [
    "I = np.identity(len(v))\n",
    "I"
   ]
  },
  {
   "cell_type": "code",
   "execution_count": 53,
   "metadata": {},
   "outputs": [
    {
     "data": {
      "text/plain": [
       "array([[ 0.85714286,  0.        , -0.28571429, -0.42857143],\n",
       "       [ 0.        ,  1.        ,  0.        ,  0.        ],\n",
       "       [-0.28571429,  0.        ,  0.42857143, -0.85714286],\n",
       "       [-0.42857143,  0.        , -0.85714286, -0.28571429]])"
      ]
     },
     "execution_count": 53,
     "metadata": {},
     "output_type": "execute_result"
    }
   ],
   "source": [
    "H = I - (2 * vvt / vtv)\n",
    "H"
   ]
  },
  {
   "cell_type": "code",
   "execution_count": null,
   "metadata": {},
   "outputs": [],
   "source": []
  }
 ],
 "metadata": {
  "kernelspec": {
   "display_name": ".venv",
   "language": "python",
   "name": "python3"
  },
  "language_info": {
   "codemirror_mode": {
    "name": "ipython",
    "version": 3
   },
   "file_extension": ".py",
   "mimetype": "text/x-python",
   "name": "python",
   "nbconvert_exporter": "python",
   "pygments_lexer": "ipython3",
   "version": "3.8.19"
  }
 },
 "nbformat": 4,
 "nbformat_minor": 2
}
