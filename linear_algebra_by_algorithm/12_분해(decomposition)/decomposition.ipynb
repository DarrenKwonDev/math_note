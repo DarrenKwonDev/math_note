{
 "cells": [
  {
   "cell_type": "markdown",
   "metadata": {},
   "source": [
    "### 대각화\n",
    "\n",
    "$\n",
    "A = PDP^{-1} \\\\ \n",
    "A^{n} = PD^{n}P^{-1}\n",
    "$  \n",
    "\n",
    "- P는 행렬 A의 고유벡터로 구성된 행렬입니다.\n",
    "- D는 대각 행렬로, 그 대각선 위의 원소들이 A의 고유값입니다.\n",
    "- 살펴보면 대각화도 결국 QR 분해 같이 행렬을 분해하는 방법론. 고윳값과 고유벡터의 개념을 사용한 것일 뿐.  \n",
    "    - 행렬 분해의 예시로, LU 분해, QR 분해, 대각화, SVD, Cholesky 분해 등이 존재함.  \n",
    "\n",
    "\n",
    "- 대각화는 보통 n * n 정사각 행렬에 대해서 행하는 행렬 분해방법입니다.\n",
    "    - n * n 크기의 행렬 A가 대각화 가능하다? = A는 n개의 고유값을 가져야"
   ]
  },
  {
   "cell_type": "markdown",
   "metadata": {},
   "source": [
    "### 직교 대각화\n",
    "\n",
    "$A = PDP^{-1} = PDP^{T}$\n",
    "\n",
    "- A가 대칭 행렬일 때($A = A^T$) 적용할 수 있습니다.\n",
    "- A는 n개의 정규 직교 벡터로 이루어진 행렬이어야 합니다.  "
   ]
  },
  {
   "cell_type": "markdown",
   "metadata": {},
   "source": [
    "### 고유값 분해 (eigen decomposition)\n",
    "\n",
    "대각화와 표현이 동일함. 둘을 구별하는 실익이 없다... "
   ]
  },
  {
   "cell_type": "code",
   "execution_count": null,
   "metadata": {},
   "outputs": [
    {
     "data": {
      "text/plain": [
       "(array([ 9.90754321,  0.05152112, -1.95906434]),\n",
       " array([[-0.36762518, -0.82102902, -0.43676432],\n",
       "        [-0.67017224,  0.55950483, -0.48767152],\n",
       "        [-0.64476422, -0.11342699,  0.75591892]]))"
      ]
     },
     "execution_count": 2,
     "metadata": {},
     "output_type": "execute_result"
    }
   ],
   "source": [
    "import numpy as np\n",
    "\n",
    "A = np.array([\n",
    "    [1, 2, 3],\n",
    "    [2, 4, 5],\n",
    "    [3, 5, 3],\n",
    "])\n",
    "\n",
    "E, V = np.linalg.eig(A)\n",
    "E, V"
   ]
  },
  {
   "cell_type": "markdown",
   "metadata": {},
   "source": [
    "### SVD\n",
    "\n",
    "- SVD는 정사각 행렬에만 사용하던 고윳값 분해를 m * n 직사각 행렬에서도 적용 가능하게 일반화한 것  \n",
    "    - 차원 축소에 주로 사용됨\n",
    "\n",
    "$𝐴 =𝑈Σ𝑉^{𝑇}$ \n",
    "\n",
    "- U와 V는 각각 왼쪽, 오른쪽 특이벡터 행렬이며, 이들은 각각 A와 A^{T}의 고유벡터를 열로 가지는 직교(orthogonal) 행렬입니다.\n",
    "- Σ는 대각 행렬로, 행렬 A의 특이값(singular values)을 대각선 상에 가집니다. 이 특이값들은  A의 고유값의 제곱근에 해당합니다."
   ]
  },
  {
   "cell_type": "code",
   "execution_count": 3,
   "metadata": {},
   "outputs": [
    {
     "data": {
      "text/plain": [
       "(array([[-0.6305882 ,  0.65070051, -0.34404196,  0.24613512],\n",
       "        [-0.34294608,  0.0720764 ,  0.09856768, -0.93138466],\n",
       "        [-0.21019607,  0.21690017,  0.9335582 ,  0.19297931],\n",
       "        [-0.66375005, -0.72411888, -0.01971354,  0.18627693]]),\n",
       " array([10.50804076,  1.6065738 ]),\n",
       " array([[-0.58113622, -0.8138063 ],\n",
       "        [-0.8138063 ,  0.58113622]]))"
      ]
     },
     "execution_count": 3,
     "metadata": {},
     "output_type": "execute_result"
    }
   ],
   "source": [
    "import numpy as np\n",
    "\n",
    "B = np.array([\n",
    "    [3, 6],\n",
    "    [2, 3],\n",
    "    [1, 2],\n",
    "    [5, 5]\n",
    "])\n",
    "\n",
    "U, S, Vt = np.linalg.svd(B)\n",
    "\n",
    "U, S, Vt"
   ]
  },
  {
   "cell_type": "markdown",
   "metadata": {},
   "source": [
    "### LU 분해\n",
    "\n",
    "- LU 분해는 주어진  n×n 정사각 행렬 A를 두 개의 행렬, 하삼각 행렬 L과 상삼각 행렬 U의 곱으로 표현하는 과정입니다:"
   ]
  },
  {
   "cell_type": "code",
   "execution_count": 4,
   "metadata": {},
   "outputs": [
    {
     "data": {
      "text/plain": [
       "(array([[1., 0., 0.],\n",
       "        [0., 0., 1.],\n",
       "        [0., 1., 0.]]),\n",
       " array([[ 1. ,  0. ,  0. ],\n",
       "        [-0.5,  1. ,  0. ],\n",
       "        [ 0. , -0.5,  1. ]]),\n",
       " array([[ 2. , -2. , -2. ],\n",
       "        [ 0. ,  4. , -3. ],\n",
       "        [ 0. ,  0. ,  0.5]]))"
      ]
     },
     "execution_count": 4,
     "metadata": {},
     "output_type": "execute_result"
    }
   ],
   "source": [
    "from scipy.linalg import lu\n",
    "\n",
    "A = np.array([\n",
    "    [2, -2, -2],\n",
    "    [0, -2, 2],\n",
    "    [-1, 5, -2],\n",
    "])\n",
    "\n",
    "P, L, U = lu(A)\n",
    "\n",
    "\"\"\"\n",
    "L이 하삼각, U가 상삼각\n",
    "P는 순열 행렬(Permutation matrix)입니다\n",
    "기본적으로 단위 행렬(identity matrix)에 특정 행들이 교환된 형태\n",
    "\n",
    "PA = LU 가 성립함.\n",
    "\"\"\"\n",
    "P, L, U"
   ]
  },
  {
   "cell_type": "code",
   "execution_count": 7,
   "metadata": {},
   "outputs": [
    {
     "data": {
      "text/plain": [
       "True"
      ]
     },
     "execution_count": 7,
     "metadata": {},
     "output_type": "execute_result"
    }
   ],
   "source": [
    "np.allclose(np.matmul(P, A), np.matmul(L, U))"
   ]
  },
  {
   "cell_type": "code",
   "execution_count": null,
   "metadata": {},
   "outputs": [],
   "source": []
  }
 ],
 "metadata": {
  "kernelspec": {
   "display_name": ".venv",
   "language": "python",
   "name": "python3"
  },
  "language_info": {
   "codemirror_mode": {
    "name": "ipython",
    "version": 3
   },
   "file_extension": ".py",
   "mimetype": "text/x-python",
   "name": "python",
   "nbconvert_exporter": "python",
   "pygments_lexer": "ipython3",
   "version": "3.8.19"
  }
 },
 "nbformat": 4,
 "nbformat_minor": 2
}
