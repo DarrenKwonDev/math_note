{
 "cells": [
  {
   "cell_type": "markdown",
   "metadata": {},
   "source": [
    "### linear equation 선형 방정식?\n",
    "\n",
    "$2x + 3y= 5$ 꼴은 그려보면 좌표 평면상 직선이 됨. 직선내의 모든 점이 해  \n",
    "$2x + 3y + 4z = 5$ 꼴. 그리면 평면 상에 해가 존재함. 평면 내의 모든 점이 해  \n",
    "\n",
    "그러나 삼각함수, 지수함수 등의 항이 포함된 경우 선형 방정식이 아님.  \n",
    "\n",
    "선형 방정식이 아닌 것.  \n",
    "$2x + \\sqrt{6}y = 5$  \n",
    "$2x + xy = 5$  \n",
    "$2x + \\cos{y} = 5$  \n",
    "$2x + 2^{y} = 5$  "
   ]
  },
  {
   "cell_type": "markdown",
   "metadata": {},
   "source": [
    "### linear system 선형 시스템? \n",
    "\n",
    "선형 방정식이 여러 개인 것    \n",
    "\n",
    "$\n",
    "3x + y + 2z = 5 \\\\\n",
    "2x + 6y -z  = 1 \\\\\n",
    "4x +    -z  = 3 \\\\\n",
    "$\n",
    "\n",
    "을 표현해보자.  \n",
    "\n",
    "\n",
    "argumented matix 로 계수와 선형 시스템의 결과를 합쳐서 표현하곤 함  \n",
    "$\n",
    "\\begin{array}{ccc|c}\n",
    "3 & 1 & 2 & 5 \\\\\n",
    "2 & 6 & -1 & 1 \\\\\n",
    "4 & 0 & -1 & 3\n",
    "\\end{array}\n",
    "$\n",
    "\n",
    "프로그래밍에선 보통\n",
    "coefficient matrix를 더 많이 쓰긴함.   \n",
    "$\n",
    "\\begin{bmatrix}\n",
    "3 & 1 & 2 \\\\\n",
    "2 & 6 & -1 \\\\\n",
    "4 & 0 & -1\n",
    "\\end{bmatrix}\n",
    "$"
   ]
  },
  {
   "cell_type": "markdown",
   "metadata": {},
   "source": [
    "#### 선형 시스템의 기본 행 연산\n",
    "\n",
    "- 한 행에 0이 아닌 상수배\n",
    "- 두 행 교환\n",
    "- 한 행의 배수를 다른 행에 더한다"
   ]
  },
  {
   "cell_type": "markdown",
   "metadata": {},
   "source": [
    "#### Gaussian Elimination 가우스 조르단 소거법\n",
    "\n",
    "- arg mat에 기본 행 연산을 적당히 가해서 가우스 행렬을 만들기\n",
    "\n",
    "- 행 사다리꼴 형태? (Row Echelon Form)\n",
    "    - 모든 0이 아닌 행 (nonzero rows)은 모든 0 행 (zero rows)보다 위에 있습니다.\n",
    "    - 선행 원소(leading entry, pivot)가 오른쪽으로 이동해서 사다리꼴을 만들어야 함\n",
    "    - 선행원소가 있는 열에서, 그 선행원소 아래의 모든 원소는 0이어야 합니다.\n",
    "\n",
    "\n",
    "- 가우스 행렬? : 행 사다리꼴 형태. 가우스 소거법 써서 row echelon form을 만들면 그게 가우스 행렬임.\n",
    "    - leading entry가 1일 필요는 없음.\n",
    "\n",
    "$\n",
    "\\begin{bmatrix}\n",
    "    1 & 2 & 4 & 7 \\\\\n",
    "    0 & 1 & 2 & 4 \\\\\n",
    "    0 & 0 & 3 & 5 \\\\\n",
    "    0 & 0 & 0 & 1\n",
    "\\end{bmatrix}\n",
    "$\n",
    "\n",
    "\n",
    "- 기약 가우스 행렬? (Row Reduced Echelon Form, RREF)\n",
    "    - leading entry가 1인 가우스 행렬.\n",
    "    - 선행원소는 그 열에서 유일한 1입니다\n",
    "\n",
    "$\n",
    "\\begin{bmatrix}\n",
    "    1 & 2 & -1 & 2 \\\\\n",
    "    0 & 1 & 3 & 4 \\\\\n",
    "    0 & 0 & 0 & 0 \\\\\n",
    "\\end{bmatrix}\n",
    "$"
   ]
  },
  {
   "cell_type": "markdown",
   "metadata": {},
   "source": [
    "### 동차 선형 시스템 homogeneous linear system\n",
    "\n",
    "$\n",
    "a11x_1 + a12x_2 +  ... + a1px_p = 0  \\\\\n",
    "a21x_1 + a22x_2 +  ... + a2px_p = 0  \\\\\n",
    "... \\\\\n",
    "an1x_1 + an2x_2 +  ... + anpx_p = 0  \\\\\n",
    "$\n",
    "\n",
    "이 꼴이라서 $x_1 = x_2 = ... = x_p = 0$ 인 trivial한 해가 무조건 존재함.  \n",
    "따라서 위 선형 시스템은 해가 무수히 많거나 오로지 하나의 해(trivial)만 지님.   \n",
    "\n",
    "따라서 trivial 하지 않은 해를 지녔다는 것은 곧 동차 선형 시스템에서 '무한한 해의 갯수'를 가진다는 것을 의미함.  "
   ]
  },
  {
   "cell_type": "markdown",
   "metadata": {},
   "source": [
    "### np.linalg.sovle"
   ]
  },
  {
   "cell_type": "code",
   "execution_count": 3,
   "metadata": {},
   "outputs": [
    {
     "data": {
      "text/plain": [
       "array([[1.],\n",
       "       [0.],\n",
       "       [1.]])"
      ]
     },
     "execution_count": 3,
     "metadata": {},
     "output_type": "execute_result"
    }
   ],
   "source": [
    "import numpy as np\n",
    "\n",
    "X = np.array([\n",
    "    [3, 1, 2],\n",
    "    [2, 6, -1],\n",
    "    [4, 0, -1],\n",
    "])\n",
    "y = np.array([\n",
    "    [5],\n",
    "    [1],\n",
    "    [3],\n",
    "])\n",
    "\n",
    "\"\"\"\n",
    "    [3, 1, 2] [x_1]    [5]\n",
    "    [2, 6,-1] [x_2] =  [1]\n",
    "    [4, 0,-1] [x_3]    [3]\n",
    "    \n",
    "    을 푸는 것과 같다.\n",
    "\"\"\"\n",
    "\n",
    "\n",
    "sol = np.linalg.solve(X, y)\n",
    "\n",
    "sol"
   ]
  },
  {
   "cell_type": "code",
   "execution_count": null,
   "metadata": {},
   "outputs": [],
   "source": []
  }
 ],
 "metadata": {
  "kernelspec": {
   "display_name": ".venv",
   "language": "python",
   "name": "python3"
  },
  "language_info": {
   "codemirror_mode": {
    "name": "ipython",
    "version": 3
   },
   "file_extension": ".py",
   "mimetype": "text/x-python",
   "name": "python",
   "nbconvert_exporter": "python",
   "pygments_lexer": "ipython3",
   "version": "3.8.19"
  }
 },
 "nbformat": 4,
 "nbformat_minor": 2
}
