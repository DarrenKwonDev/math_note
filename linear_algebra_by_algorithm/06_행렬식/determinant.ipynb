{
 "cells": [
  {
   "cell_type": "markdown",
   "metadata": {},
   "source": [
    "### determinant\n",
    "\n",
    "행렬식 $D$는 곧 선형 사상인 매트릭스에 의해 옮겨진 좌표가 형성한 공간의 '부피 변환률'이다.  \n",
    "예를 들어 2×2 행렬 A가 주어지고 행렬식이 2라면, 이는 행렬에 의해 선형 사상된 결과가 원래의 단위 면적이 2배로 확장되었음을 의미합니다.  "
   ]
  },
  {
   "cell_type": "markdown",
   "metadata": {},
   "source": [
    "### 삼각행렬, 대각행렬의 det\n",
    "\n",
    "- 대각원소의 곱"
   ]
  },
  {
   "cell_type": "code",
   "execution_count": 7,
   "metadata": {},
   "outputs": [
    {
     "data": {
      "text/plain": [
       "(array([[2, 1, 7],\n",
       "        [0, 5, 7],\n",
       "        [0, 0, 9]]),\n",
       " array([[2, 0, 0],\n",
       "        [0, 5, 0],\n",
       "        [0, 0, 9]]))"
      ]
     },
     "execution_count": 7,
     "metadata": {},
     "output_type": "execute_result"
    }
   ],
   "source": [
    "import numpy as np\n",
    "\n",
    "A = np.random.randint(0, 11, size=(3, 3))\n",
    "Au = np.triu(A)\n",
    "Adiag = np.diag(np.diag(A))\n",
    "Au, Adiag"
   ]
  },
  {
   "cell_type": "code",
   "execution_count": 9,
   "metadata": {},
   "outputs": [
    {
     "name": "stdout",
     "output_type": "stream",
     "text": [
      "90.0 90\n",
      "90.0 90\n"
     ]
    }
   ],
   "source": [
    "detAu = np.linalg.det(Au)\n",
    "detAdiag = np.linalg.det(Adiag)\n",
    "\n",
    "print(detAu, np.prod(np.diag(Au)))\n",
    "\n",
    "print(detAdiag, np.prod(np.diag(Adiag)))"
   ]
  }
 ],
 "metadata": {
  "kernelspec": {
   "display_name": ".venv",
   "language": "python",
   "name": "python3"
  },
  "language_info": {
   "codemirror_mode": {
    "name": "ipython",
    "version": 3
   },
   "file_extension": ".py",
   "mimetype": "text/x-python",
   "name": "python",
   "nbconvert_exporter": "python",
   "pygments_lexer": "ipython3",
   "version": "3.8.19"
  }
 },
 "nbformat": 4,
 "nbformat_minor": 2
}
