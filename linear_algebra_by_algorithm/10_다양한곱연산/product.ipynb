{
 "cells": [
  {
   "cell_type": "markdown",
   "metadata": {},
   "source": [
    "### 외적(outer product)\n",
    "\n",
    "- outer product = 텐서 곱 (tensor product) \n",
    "\n",
    "\n",
    "$$\n",
    "\\mathbf{u} \\otimes \\mathbf{v} = \\mathbf{u}\\mathbf{v}^T = \n",
    "\\begin{pmatrix}\n",
    "u_1 \\\\\n",
    "u_2 \\\\\n",
    "u_3 \n",
    "\\end{pmatrix}\n",
    "\n",
    "\\begin{pmatrix}\n",
    "v_1 & v_2 & v_3 & v_4\n",
    "\\end{pmatrix}\n",
    "\n",
    "=\n",
    "\\begin{pmatrix}\n",
    "u_1v_1 & u_1v_2 & u_1v_3 & u_1v_4 \\\\\n",
    "u_2v_1 & u_2v_2 & u_2v_3 & u_2v_4 \\\\\n",
    "u_3v_1 & u_3v_2 & u_3v_3 & u_3v_4\n",
    "\\end{pmatrix}\n",
    "\n",
    "$$"
   ]
  },
  {
   "cell_type": "code",
   "execution_count": 2,
   "metadata": {},
   "outputs": [
    {
     "data": {
      "text/plain": [
       "array([[-1,  0,  2],\n",
       "       [-2,  0,  4],\n",
       "       [-3,  0,  6]])"
      ]
     },
     "execution_count": 2,
     "metadata": {},
     "output_type": "execute_result"
    }
   ],
   "source": [
    "import numpy as np\n",
    "\n",
    "A = np.array([1, 2, 3])\n",
    "B = np.array([-1, 0, 2])\n",
    "\n",
    "np.outer(A, B)"
   ]
  },
  {
   "cell_type": "markdown",
   "metadata": {},
   "source": [
    "### 크로네커 곱(Kronecker product)\n",
    "\n",
    "-   A가 m×n 행렬이고 B가 p×q 행렬일 때, A와 B의 크로네커 곱 A⊗B는 mp×nq 행렬이 됩니다.\n",
    "\n",
    "$$\n",
    "\\begin{bmatrix}\n",
    "a_{11}B & a_{12}B & \\cdots & a_{1n}B \\\\\n",
    "a_{21}B & a_{22}B & \\cdots & a_{2n}B \\\\\n",
    "\\vdots & \\vdots & \\ddots & \\vdots \\\\\n",
    "a_{m1}B & a_{m2}B & \\cdots & a_{mn}B\n",
    "\\end{bmatrix}\n",
    "$$"
   ]
  },
  {
   "cell_type": "code",
   "execution_count": 3,
   "metadata": {},
   "outputs": [
    {
     "name": "stdout",
     "output_type": "stream",
     "text": [
      "행렬 A:\n",
      "[[1 2]\n",
      " [3 4]]\n",
      "\n",
      "행렬 B:\n",
      "[[0 5]\n",
      " [6 7]]\n",
      "\n",
      "크로네커 곱 A ⊗ B:\n",
      "[[ 0  5  0 10]\n",
      " [ 6  7 12 14]\n",
      " [ 0 15  0 20]\n",
      " [18 21 24 28]]\n"
     ]
    }
   ],
   "source": [
    "import numpy as np\n",
    "\n",
    "# 행렬 A 정의\n",
    "A = np.array([[1, 2], [3, 4]])\n",
    "\n",
    "# 행렬 B 정의\n",
    "B = np.array([[0, 5], [6, 7]])\n",
    "\n",
    "# 크로네커 곱 계산\n",
    "C = np.kron(A, B)\n",
    "\n",
    "print(\"행렬 A:\")\n",
    "print(A)\n",
    "print(\"\\n행렬 B:\")\n",
    "print(B)\n",
    "print(\"\\n크로네커 곱 A ⊗ B:\")\n",
    "print(C)\n"
   ]
  },
  {
   "cell_type": "markdown",
   "metadata": {},
   "source": [
    "### 백터 곱 (vector product, cross product)\n",
    "\n",
    "- 두 벡터에 모두 수직인 새로운 벡터를 생성합니다.\n",
    "\n",
    "두 벡터 $(\\mathbf{a} = (a_1, a_2, a_3))와 (\\mathbf{b} = (b_1, b_2, b_3))$에 대해,  \n",
    "이들의 크로스 프로덕트 $(\\mathbf{a} \\times \\mathbf{b})$는 다음과 같이 계산됩니다:  \n",
    "\n",
    "$\n",
    "\\mathbf{a} \\times \\mathbf{b} = \\begin{vmatrix}\n",
    "\\mathbf{i} & \\mathbf{j} & \\mathbf{k} \\\\\n",
    "a_1 & a_2 & a_3 \\\\\n",
    "b_1 & b_2 & b_3\n",
    "\\end{vmatrix}\n",
    "$\n",
    "\n",
    "이 행렬식을 계산하면 다음과 같은 벡터를 얻습니다:\n",
    "\n",
    "$\n",
    "\\mathbf{a} \\times \\mathbf{b} = (a_2b_3 - a_3b_2, a_3b_1 - a_1b_3, a_1b_2 - a_2b_1)\n",
    "$\n",
    "\n",
    "이 연산의 결과인 벡터는 원래의 두 벡터 $(\\mathbf{a})$와 $(\\mathbf{b})$ 모두에 수직입니다.  \n",
    "크로스 프로덕트의 크기(또는 길이)는 $(\\mathbf{a})$와 $(\\mathbf{b})$가 이루는 평행사변형의 넓이와 같으며,   \n",
    "이는 $(\\|\\mathbf{a}\\| \\|\\mathbf{b}\\| \\sin \\theta)$로 계산할 수 있습니다, 여기서 $(\\theta)$는 두 벡터 사이의 각입니다.\n"
   ]
  },
  {
   "cell_type": "code",
   "execution_count": 7,
   "metadata": {},
   "outputs": [
    {
     "name": "stdout",
     "output_type": "stream",
     "text": [
      "벡터 a: [1 2 3]\n",
      "벡터 b: [4 5 6]\n",
      "크로스 프로덕트 (벡터 a x 벡터 b): [-3  6 -3]\n"
     ]
    },
    {
     "data": {
      "text/plain": [
       "(True, True)"
      ]
     },
     "execution_count": 7,
     "metadata": {},
     "output_type": "execute_result"
    }
   ],
   "source": [
    "import numpy as np\n",
    "\n",
    "# 벡터 a와 b 정의\n",
    "a = np.array([1, 2, 3])\n",
    "b = np.array([4, 5, 6])\n",
    "\n",
    "# 벡터 a와 b의 크로스 프로덕트 계산\n",
    "cross_product = np.cross(a, b)\n",
    "\n",
    "# 결과 출력\n",
    "print(\"벡터 a:\", a)\n",
    "print(\"벡터 b:\", b)\n",
    "print(\"크로스 프로덕트 (벡터 a x 벡터 b):\", cross_product)\n",
    "\n",
    "# a, b에 대해서 수직일것이므로 내적하면 0일 것이다\n",
    "np.allclose(np.inner(cross_product, a), 0), np.allclose(np.inner(cross_product, b), 0)\n"
   ]
  },
  {
   "cell_type": "markdown",
   "metadata": {},
   "source": [
    "### 삼중곱 (triple product)  \n",
    "\n",
    "- `스칼라 3중 곱`과 `벡터 3중 곱`으로 나뉨\n",
    "- `스칼라 3중 곱`\n",
    "    - $u \\cdot (v \\times w)$\n",
    "    - v와 w를 벡터곱하고 u와 내적함\n",
    "- `벡터 3중 곱`\n",
    "    - $u \\times (v \\times w)$"
   ]
  },
  {
   "cell_type": "code",
   "execution_count": null,
   "metadata": {},
   "outputs": [],
   "source": []
  }
 ],
 "metadata": {
  "kernelspec": {
   "display_name": ".venv",
   "language": "python",
   "name": "python3"
  },
  "language_info": {
   "codemirror_mode": {
    "name": "ipython",
    "version": 3
   },
   "file_extension": ".py",
   "mimetype": "text/x-python",
   "name": "python",
   "nbconvert_exporter": "python",
   "pygments_lexer": "ipython3",
   "version": "3.8.19"
  }
 },
 "nbformat": 4,
 "nbformat_minor": 2
}
