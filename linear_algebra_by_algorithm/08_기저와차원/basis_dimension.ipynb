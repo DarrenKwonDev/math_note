{
 "cells": [
  {
   "cell_type": "markdown",
   "metadata": {},
   "source": [
    "### 공간\n",
    "\n",
    "- 벡터 공간 vector space : 벡터의 덧셈, 스칼라곱이 정의된 공간. \n",
    "    - 단순히, 특정 벡터로 구성할 수 있는 공간을 말하는 것.  \n",
    "    - 예를 들어, 벡터 [1, 0], [0, 1] 이 존재할 때 이 벡터의 선형 조합으로 표현할 수 있는 공간을 벡터 공간이라 함.  \n",
    "- 내적 공간 inner product space : 벡터 공간에 추가로 '내적' 연산이 정의됨. 벡터의 길이와 각도를 측정할 수 있게 됨.  \n",
    "- 부분 공간 sub space : 벡터 공간의 일부.   "
   ]
  },
  {
   "cell_type": "markdown",
   "metadata": {},
   "source": [
    "### basis 기저  \n",
    "\n",
    "- 벡터 공간의 모든 벡터를 표현하거나 생성할 수 있는 선형 독립적인 벡터들의 집합\n",
    "- 기저는 벡터 공간에서 '좌표계'의 역할\n",
    "- n 차원 만드려면 n 개의 basis가 필요합니다.  \n",
    "    - 애초에 `'차원'(dimension)의 정의는 해당 공간을 구성하는 기저 벡터의 갯수`"
   ]
  },
  {
   "cell_type": "markdown",
   "metadata": {},
   "source": [
    "### 행공간, 열공간, 영공간(null space)\n",
    "\n",
    "- 행공간 = 행렬을 행 벡터로 쪼개고 해당 행 벡터로 span 할 수 있는 공간  \n",
    "- 열공간 = 행렬을 열 벡터로 쪼개고 해당 열 벡터로 span 할 수 있는 공간  \n",
    "    - `열벡터 집합이 span 하는 공간의 차원 = 열공간의 차원 = Rank` 이다. \n",
    "- 영공간 = `Ax = 0`  을 만족하는 벡터 x의 집합  \n",
    "    - 즉, 이 벡터들은 A에 의해 \"소멸\"되는 벡터들입니다.\n",
    "\n",
    "\n",
    "#### 행, 열, 영 공간의 특성\n",
    "\n",
    "- 기본 행 연산은 영곤간, 행공간을 변환시키지 않습니다.\n",
    "- 행공간과 열공간의 차원은 동일합니다. \n",
    "    - 행공간과 열공간이 동일한 차원을 갖지만, 이들이 span하는 실제 영역은 다를 수 있습니다. 즉, 서로 다른 부분 공간을 가집니다.  "
   ]
  },
  {
   "cell_type": "markdown",
   "metadata": {},
   "source": [
    "### rank 와 nullity, Rank-Nullity Theorem\n",
    "\n",
    "- rank는 열공간의 차원\n",
    "- nullity는 영공간의 차원\n",
    "    - 널리티가 높을수록 더 많은 선형 종속 관계가 행렬 내에 존재합니다\n",
    "\n",
    "- $rank(A) = rank(A^T)$ 입니다.\n",
    "- Rank-Nullity Theorem 랭크-널리티 정리\n",
    "    - A의 행의 갯수가 $n$일 때 $rank(A) + nullity(A) = n$ 입니다."
   ]
  },
  {
   "cell_type": "code",
   "execution_count": null,
   "metadata": {},
   "outputs": [],
   "source": []
  },
  {
   "cell_type": "code",
   "execution_count": null,
   "metadata": {},
   "outputs": [],
   "source": []
  }
 ],
 "metadata": {
  "language_info": {
   "name": "python"
  }
 },
 "nbformat": 4,
 "nbformat_minor": 2
}
