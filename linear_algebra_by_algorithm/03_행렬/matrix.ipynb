{
 "cells": [
  {
   "cell_type": "markdown",
   "metadata": {},
   "source": [
    "### 행렬곱"
   ]
  },
  {
   "cell_type": "code",
   "execution_count": 2,
   "metadata": {},
   "outputs": [],
   "source": [
    "A = [[2, 7], \n",
    "     [3, 4],\n",
    "     [6, 1]] # 3 * 2\n",
    "B = [[3, -3, 5],\n",
    "     [-1, 2, -1]] # 2 * 3"
   ]
  },
  {
   "cell_type": "code",
   "execution_count": 3,
   "metadata": {},
   "outputs": [],
   "source": [
    "n = len(A)          # A행\n",
    "p1 = len(A[0])      # A열\n",
    "n2 = len(B)         # B행\n",
    "p2 = len(B[0])      # B열\n",
    "\n",
    "assert(p1 == n2)\n",
    "\n",
    "res = []\n",
    "\n",
    "\n",
    "for i in range(n): # 결과 행렬의 각 행을 계산합니다.\n",
    "    '''\n",
    "    결과 행렬의 행을 계산하려고 합니다\n",
    "    결과 행렬의 x행 y열은 A 행의 x행 벡터와 B 행의 y열 벡터의 원소곱의 합(내적) 입니다.\n",
    "    \n",
    "    A = [[2, 7], \n",
    "     [3, 4],\n",
    "     [6, 1]]\n",
    "    B = [[3, -3, 5],\n",
    "        [-1, 2, -1]]\n",
    "        \n",
    "    곱의 1행 1열은 곧 (2 * 3) + (7 * -1) = -1\n",
    "    '''\n",
    "    row = []    # 행을 먼저 계산하려고 합니다. \n",
    "    \n",
    "    for j in range(0, p2): # 결과 행렬의 각 열을 순회\n",
    "        val = 0\n",
    "        \n",
    "        # A의 (i, k) * B의 (k, j) 를 곱하여 결과 행렬의 (i, j) 원소 값을 도출합니다.\n",
    "        for k in range(0, p1): \n",
    "            val += A[i][k] * B[k][j]\n",
    "        \n",
    "        row.append(val)\n",
    "    \n",
    "    res.append(row)"
   ]
  },
  {
   "cell_type": "code",
   "execution_count": 4,
   "metadata": {},
   "outputs": [
    {
     "data": {
      "text/plain": [
       "[[-1, 8, 3], [5, -1, 11], [17, -16, 29]]"
      ]
     },
     "execution_count": 4,
     "metadata": {},
     "output_type": "execute_result"
    }
   ],
   "source": [
    "res"
   ]
  },
  {
   "cell_type": "markdown",
   "metadata": {},
   "source": [
    "### 행렬곱을 numpy로"
   ]
  },
  {
   "cell_type": "code",
   "execution_count": 5,
   "metadata": {},
   "outputs": [],
   "source": [
    "import numpy as np"
   ]
  },
  {
   "cell_type": "code",
   "execution_count": 6,
   "metadata": {},
   "outputs": [
    {
     "data": {
      "text/plain": [
       "array([[ -1,   8,   3],\n",
       "       [  5,  -1,  11],\n",
       "       [ 17, -16,  29]])"
      ]
     },
     "execution_count": 6,
     "metadata": {},
     "output_type": "execute_result"
    }
   ],
   "source": [
    "\n",
    "A = np.array([[2, 7], \n",
    "     [3, 4],\n",
    "     [6, 1]])\n",
    "\n",
    "B = np.array([[3, -3, 5],\n",
    "     [-1, 2, -1]])\n",
    "\n",
    "np.matmul(A, B)"
   ]
  },
  {
   "cell_type": "code",
   "execution_count": null,
   "metadata": {},
   "outputs": [],
   "source": []
  }
 ],
 "metadata": {
  "kernelspec": {
   "display_name": ".venv",
   "language": "python",
   "name": "python3"
  },
  "language_info": {
   "codemirror_mode": {
    "name": "ipython",
    "version": 3
   },
   "file_extension": ".py",
   "mimetype": "text/x-python",
   "name": "python",
   "nbconvert_exporter": "python",
   "pygments_lexer": "ipython3",
   "version": "3.8.19"
  }
 },
 "nbformat": 4,
 "nbformat_minor": 2
}
