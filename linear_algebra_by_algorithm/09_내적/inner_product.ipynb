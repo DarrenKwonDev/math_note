{
 "cells": [
  {
   "cell_type": "markdown",
   "metadata": {},
   "source": [
    "### inner product 내적\n",
    "\n",
    "벡터와 벡터를 내적하면 스칼라 값이 나옴  \n",
    "\n",
    "- $\\langle \\mathbf{u}, \\mathbf{v} \\rangle = \\mathbf{u} \\cdot \\mathbf{v} = u_1 v_1 + u_2 v_2 + \\cdots + u_n v_n$\n",
    "\n",
    "- 두 벡터간의 각도와 norm 기반으로 내적을 계산할 수도 있음\n",
    "    - 유클리드 노름(Euclidean norm)을 사용함. \n",
    "    - $\\mathbf{u} \\cdot \\mathbf{v} = \\|\\mathbf{u}\\| \\|\\mathbf{v}\\| \\cos(\\theta)$"
   ]
  },
  {
   "cell_type": "code",
   "execution_count": 2,
   "metadata": {},
   "outputs": [
    {
     "data": {
      "text/plain": [
       "32"
      ]
     },
     "execution_count": 2,
     "metadata": {},
     "output_type": "execute_result"
    }
   ],
   "source": [
    "import numpy as np\n",
    "\n",
    "a = np.array([1, 2, 3])\n",
    "b = np.array([4, 5, 6])\n",
    "\n",
    "res = np.inner(a, b)\n",
    "res"
   ]
  },
  {
   "cell_type": "markdown",
   "metadata": {},
   "source": [
    "### norm\n",
    "\n",
    "- 유클리드 노름 ($L^2$ norm)\n",
    "    - $\\|\\mathbf{v}\\|_2 = \\sqrt{v_1^2 + v_2^2 + \\cdots + v_n^2}$\n",
    "- 맨해튼 노름 ($L^1$ norm)\n",
    "    - $\\|\\mathbf{v}\\|_1 = |v_1| + |v_2| + \\cdots + |v_n|$\n",
    "- 최대 노름\n",
    "    - $\\|\\mathbf{v}\\|_\\infty = \\max(|v_1|, |v_2|, \\ldots, |v_n|)$"
   ]
  },
  {
   "cell_type": "markdown",
   "metadata": {},
   "source": [
    "### 직교 공간과 정규 직교 공간\n",
    "\n",
    "- 벡터 공간내의 벡터 집합이 서로 간에 `직교(orthogonal)`하면 해당 벡터 공간 = 직교 공간\n",
    "\n",
    "- 벡터들의 길이가 1이라면 `정규 직교(orthonormal)` 라 표현 함.\n",
    "    - 정규 직교 하는 벡터를 `정규 직교 벡터` 라 부르며 이 벡터들이 만드는 공간을 `정규 직교 공간(orthonormal space)` 라 함\n",
    "\n",
    "- 직교 하니까 각 벡터들 아무거나 2개 잡아서 내적 때리면 0이 나오겠죠? $cos{\\theta} = 0$ 일테니\n",
    "\n",
    "#### 벡터의 정규화 (normalization)  \n",
    "\n",
    "- 벡터 길이가 1이므로 직교 벡터들을 유클리드 노름으로 나누면 직교 벡터를 정규 직표 벡터로 변환할 수 있음  \n",
    "$\n",
    "v = \\frac{1}{\\|u\\|} u\n",
    "$"
   ]
  },
  {
   "cell_type": "markdown",
   "metadata": {},
   "source": [
    "### 그램 슈미트 과정 (gram-schmidt process)\n",
    "\n",
    "basis 벡터 ${s_1, s_2, ... s_n}$ 을 직교 기저 벡터로 변환하는 작업.    \n",
    "즉, 그램 슈미트 과정을 거치면 basis 벡터들이 서로 간에 직교하게 된다.  \n",
    "\n",
    "#### projection theorm 정사영 정리\n",
    "\n",
    "\n",
    "- 정사영 벡터 구하기\n",
    "    - 벡터 u를 v에 정사영 하는 벡터는 다음과 같이 구해진다.  \n",
    "    $\\text{proj}_v(u) = \\frac{\\mathbf{u} \\cdot \\mathbf{v}}{\\mathbf{v} \\cdot \\mathbf{v}} \\mathbf{v}$\n",
    "\n",
    "\n",
    "- 정사영 정리  \n",
    "\n",
    "    벡터 공간 S의 부분 공간 W가 존재할 때, 벡터 공간 S에 속하는 임의의 벡터 a는   \n",
    "    $a = w_1 + w_2$ 로 표현할 수 있다.  \n",
    "    $w_1$ 는 부분 공간 W에 속하는 벡터이며 $w_2$는 부분 공간의 직교 공간 $W^\\perp$에 속하는 벡터임  "
   ]
  },
  {
   "cell_type": "markdown",
   "metadata": {},
   "source": [
    "### QR 분해\n",
    "\n",
    "#### QR 분해가 뭔가\n",
    "\n",
    "$A = QR$  \n",
    "\n",
    "A가 n * p 인 행렬일 때 아래로 분리할 수 있다.  \n",
    "full rank가 아닌 행렬 A 에 대해서도 사용할 수 있음. 대신 그러면 R이 singular고 대각선 원소가 0이 될 수 있습니다\n",
    "\n",
    "- Q = 정규 직교(orthonomal) 벡터로 이루어진 n * p 행렬   \n",
    "    - 정규 직교니까 다 길이가 1이고 서로 간 내적이 0, 즉, 직교하는 벡터로 이루어진 행렬\n",
    "- R = 역행렬이 존재하는 상삼각 행렬 p * p 행렬  \n",
    "    - non-singular upper triangle matrix\n"
   ]
  },
  {
   "cell_type": "code",
   "execution_count": 14,
   "metadata": {},
   "outputs": [
    {
     "name": "stdout",
     "output_type": "stream",
     "text": [
      "A의 랭크 -> 3\n",
      "Q is \n",
      "[[-0.70710678  0.57735027 -0.40824829]\n",
      " [-0.         -0.57735027 -0.81649658]\n",
      " [-0.70710678 -0.57735027  0.40824829]]\n",
      "R is \n",
      "[[-1.41421356 -1.41421356 -0.70710678]\n",
      " [ 0.         -1.73205081  0.        ]\n",
      " [ 0.          0.         -1.22474487]]\n"
     ]
    }
   ],
   "source": [
    "A = np.array([\n",
    "    [1, 0, 1],\n",
    "    [0, 1, 1],\n",
    "    [1, 2, 0],\n",
    "])\n",
    "\n",
    "Arank = np.linalg.matrix_rank(A)\n",
    "print(f\"A의 랭크 -> {Arank}\")\n",
    "\n",
    "# Q는 정규 직교로 이뤄진 행렬. 각각이 선형 독립이고 내적하면 0\n",
    "# R은 non singular 상삼각행렬로 예상 (A가 full rank 라서)\n",
    "Q, R = np.linalg.qr(A)\n",
    "\n",
    "print(\"Q is \")\n",
    "print(Q)\n",
    "print(\"R is \")\n",
    "print(R)"
   ]
  },
  {
   "cell_type": "code",
   "execution_count": 13,
   "metadata": {},
   "outputs": [
    {
     "name": "stdout",
     "output_type": "stream",
     "text": [
      "norm is : 0.9999999999999998\n"
     ]
    },
    {
     "data": {
      "text/plain": [
       "True"
      ]
     },
     "execution_count": 13,
     "metadata": {},
     "output_type": "execute_result"
    }
   ],
   "source": [
    "\n",
    "\"\"\"\n",
    "Q는 정규 직교(orthonomal) 행렬이므로 크기가 1이고 각 열벡터가 직교하고 내적이 0일 것이다.\n",
    "\"\"\"\n",
    "colVec1 = Q[:, 0]\n",
    "colVec2 = Q[:, 1]\n",
    "colVec3 = Q[:, 2]\n",
    "\n",
    "# l2 norm이 1일 것으로 예상\n",
    "print(f\"norm is : {np.linalg.norm(colVec1)}\")\n",
    "\n",
    "# 내적이 0일 것으로 예상\n",
    "np.allclose(np.inner(colVec1, colVec2), 0)"
   ]
  }
 ],
 "metadata": {
  "kernelspec": {
   "display_name": ".venv",
   "language": "python",
   "name": "python3"
  },
  "language_info": {
   "codemirror_mode": {
    "name": "ipython",
    "version": 3
   },
   "file_extension": ".py",
   "mimetype": "text/x-python",
   "name": "python",
   "nbconvert_exporter": "python",
   "pygments_lexer": "ipython3",
   "version": "3.8.19"
  }
 },
 "nbformat": 4,
 "nbformat_minor": 2
}
