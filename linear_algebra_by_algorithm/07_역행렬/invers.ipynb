{
 "cells": [
  {
   "cell_type": "markdown",
   "metadata": {},
   "source": [
    "### inverse matrix 역행렬. \n",
    "\n",
    "- 역행렬이 없는 행렬을 singular matrix라 함."
   ]
  },
  {
   "cell_type": "code",
   "execution_count": 3,
   "metadata": {},
   "outputs": [
    {
     "data": {
      "text/plain": [
       "True"
      ]
     },
     "execution_count": 3,
     "metadata": {},
     "output_type": "execute_result"
    }
   ],
   "source": [
    "\n",
    "import numpy as np\n",
    "\n",
    "A = np.random.randint(0, 11, size=(4, 4))\n",
    "\n",
    "# np.linalg\n",
    "\n",
    "Ainv = np.linalg.inv(A)\n",
    "\n",
    "np.allclose(np.matmul(A, Ainv), np.identity(4))"
   ]
  },
  {
   "cell_type": "code",
   "execution_count": null,
   "metadata": {},
   "outputs": [],
   "source": []
  }
 ],
 "metadata": {
  "kernelspec": {
   "display_name": ".venv",
   "language": "python",
   "name": "python3"
  },
  "language_info": {
   "codemirror_mode": {
    "name": "ipython",
    "version": 3
   },
   "file_extension": ".py",
   "mimetype": "text/x-python",
   "name": "python",
   "nbconvert_exporter": "python",
   "pygments_lexer": "ipython3",
   "version": "3.8.19"
  }
 },
 "nbformat": 4,
 "nbformat_minor": 2
}
