{
 "cells": [
  {
   "cell_type": "markdown",
   "metadata": {},
   "source": [
    "### 고윳값, 고유벡터\n",
    "\n",
    "\n",
    "- 고유벡터 : 행렬 A 에 대해 A를 곱해 선형 사상하여도 벡터의 방향은 바뀌지 않고 scale 만 바뀌는 것\n",
    "- 고유값 : 선형 사상 이후 바뀐 고유벡터의 길이."
   ]
  },
  {
   "cell_type": "markdown",
   "metadata": {},
   "source": [
    "### 특성 방정식 (characteristic equation)\n",
    "\n",
    "- 행렬의 고유값(eigenvalues)을 찾는 데 사용되는 방정식\n",
    "\n",
    "$\n",
    "\\mathbf{A}\\mathbf{x} = \\lambda \\mathbf{x} \\\\\n",
    "(\\mathbf{A} - \\lambda \\mathbf{I})\\mathbf{x} = 0\n",
    "$  \n",
    "\n",
    "여기서 x는 고유벡터에 해당합니다.  \n",
    "\n",
    "여기서 $(\\mathbf{A} - \\lambda \\mathbf{I})$ 는 singular 여야 한다. 즉, 행렬식이 0이어야 한다.  \n",
    "역행렬이 있다면 $x = 0$인 trivial한 해밖에 존재하지 않게 되기 때문.\n",
    "우리는 non-trivial solutions 을 찾고 싶다.\n",
    "\n",
    "따라서 \n",
    "$det(\\mathbf{A} - \\lambda \\mathbf{I}) = 0$ 이어야 한다."
   ]
  },
  {
   "cell_type": "markdown",
   "metadata": {},
   "source": [
    "### 고윳값과 고유벡터의 특성\n",
    "\n",
    "- $A$의 고유벡터 = $A^n$ 의 고유벡터\n",
    "- $A$의 고윳값 $\\lambda$ 이라면, $A^n$의 고윳값은 $\\lambda^{n}$이다.\n",
    "- 고유 벡터는 유일하지 않다. 고유 벡터에 스칼라배를 해도 그대로 고유벡터기 때문에..."
   ]
  },
  {
   "cell_type": "code",
   "execution_count": 1,
   "metadata": {},
   "outputs": [],
   "source": [
    "import numpy as np\n",
    "\n",
    "A = np.array([\n",
    "    [3, 0],\n",
    "    [8, -1],\n",
    "])"
   ]
  },
  {
   "cell_type": "code",
   "execution_count": 2,
   "metadata": {},
   "outputs": [
    {
     "data": {
      "text/plain": [
       "(array([-1.,  3.]),\n",
       " array([[0.        , 0.4472136 ],\n",
       "        [1.        , 0.89442719]]))"
      ]
     },
     "execution_count": 2,
     "metadata": {},
     "output_type": "execute_result"
    }
   ],
   "source": [
    "e, v = np.linalg.eig(A)\n",
    "\n",
    "# e는 고유값, v는 고유 벡터\n",
    "e, v"
   ]
  }
 ],
 "metadata": {
  "kernelspec": {
   "display_name": ".venv",
   "language": "python",
   "name": "python3"
  },
  "language_info": {
   "codemirror_mode": {
    "name": "ipython",
    "version": 3
   },
   "file_extension": ".py",
   "mimetype": "text/x-python",
   "name": "python",
   "nbconvert_exporter": "python",
   "pygments_lexer": "ipython3",
   "version": "3.8.19"
  }
 },
 "nbformat": 4,
 "nbformat_minor": 2
}
